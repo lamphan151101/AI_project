{
 "cells": [
  {
   "cell_type": "code",
   "execution_count": 1,
   "metadata": {},
   "outputs": [],
   "source": [
    "import os\n",
    "import sys\n",
    "import json\n",
    "\n",
    "from sklearn.model_selection import train_test_split"
   ]
  },
  {
   "cell_type": "code",
   "execution_count": 2,
   "metadata": {},
   "outputs": [],
   "source": [
    "def load_labels(database_path):\n",
    "    if os.path.isdir(database_path):\n",
    "        labels = os.listdir(database_path)\n",
    "    return labels\n",
    "\n",
    "\n",
    "def get_dataset(database_path):\n",
    "    if not os.path.exists(database_path):\n",
    "        raise IOError('not exist path')\n",
    "    no_dir = os.path.join(database_path, 'no')\n",
    "    fi_dir = os.path.join(database_path, 'fi')\n",
    "\n",
    "    no_data = os.listdir(no_dir)\n",
    "    fi_data = os.listdir(fi_dir)\n",
    "\n",
    "    no_train, no_test = train_test_split(no_data, test_size=0.2, shuffle=True)\n",
    "    fi_train, fi_test = train_test_split(fi_data, test_size=0.2, shuffle=True)\n",
    "\n",
    "    train_database = {}\n",
    "    for file_name in no_train:\n",
    "        name, _ = os.path.splitext(file_name)\n",
    "        train_database[name] = {}\n",
    "        train_database[name]['subset'] = 'training'\n",
    "        train_database[name]['annotations'] = {'label': 'no'}\n",
    "    for file_name in fi_train:\n",
    "        name, _ = os.path.splitext(file_name)\n",
    "        train_database[name] = {}\n",
    "        train_database[name]['subset'] = 'training'\n",
    "        train_database[name]['annotations'] = {'label': 'fi'}\n",
    "\n",
    "    val_database = {}\n",
    "    for file_name in no_test:\n",
    "        name, _ = os.path.splitext(file_name)\n",
    "        val_database[name] = {}\n",
    "        val_database[name]['subset'] = 'validation'\n",
    "        val_database[name]['annotations'] = {'label': 'no'}\n",
    "    for file_name in fi_test:\n",
    "        name, _ = os.path.splitext(file_name)\n",
    "        val_database[name] = {}\n",
    "        val_database[name]['subset'] = 'validation'\n",
    "        val_database[name]['annotations'] = {'label': 'fi'}\n",
    "\n",
    "    return train_database, val_database\n",
    "\n",
    "\n",
    "def generate_annotation(database_path, dst_json_path):\n",
    "    labels = load_labels(database_path)\n",
    "    train_database, val_database = get_dataset(database_path)\n",
    "\n",
    "    dst_data = {}\n",
    "    dst_data['labels'] = labels\n",
    "    dst_data['database'] = {}\n",
    "    dst_data['database'].update(train_database)\n",
    "    dst_data['database'].update(val_database)\n",
    "\n",
    "    with open(dst_json_path, 'w') as dst_file:\n",
    "        json.dump(dst_data, dst_file)"
   ]
  },
  {
   "cell_type": "code",
   "execution_count": 3,
   "metadata": {},
   "outputs": [
    {
     "ename": "UnboundLocalError",
     "evalue": "local variable 'labels' referenced before assignment",
     "output_type": "error",
     "traceback": [
      "\u001b[1;31m---------------------------------------------------------------------------\u001b[0m",
      "\u001b[1;31mUnboundLocalError\u001b[0m                         Traceback (most recent call last)",
      "Cell \u001b[1;32mIn[3], line 4\u001b[0m\n\u001b[0;32m      1\u001b[0m database_path \u001b[38;5;241m=\u001b[39m \u001b[38;5;124m'\u001b[39m\u001b[38;5;124mmix_jpg\u001b[39m\u001b[38;5;124m'\u001b[39m\n\u001b[0;32m      2\u001b[0m dst_json_path \u001b[38;5;241m=\u001b[39m database_path \u001b[38;5;241m+\u001b[39m \u001b[38;5;124m'\u001b[39m\u001b[38;5;124m.json\u001b[39m\u001b[38;5;124m'\u001b[39m\n\u001b[1;32m----> 4\u001b[0m \u001b[43mgenerate_annotation\u001b[49m\u001b[43m(\u001b[49m\u001b[43mdatabase_path\u001b[49m\u001b[43m,\u001b[49m\u001b[43m \u001b[49m\u001b[43mdst_json_path\u001b[49m\u001b[43m)\u001b[49m\n",
      "Cell \u001b[1;32mIn[2], line 48\u001b[0m, in \u001b[0;36mgenerate_annotation\u001b[1;34m(database_path, dst_json_path)\u001b[0m\n\u001b[0;32m     47\u001b[0m \u001b[38;5;28;01mdef\u001b[39;00m \u001b[38;5;21mgenerate_annotation\u001b[39m(database_path, dst_json_path):\n\u001b[1;32m---> 48\u001b[0m     labels \u001b[38;5;241m=\u001b[39m \u001b[43mload_labels\u001b[49m\u001b[43m(\u001b[49m\u001b[43mdatabase_path\u001b[49m\u001b[43m)\u001b[49m\n\u001b[0;32m     49\u001b[0m     train_database, val_database \u001b[38;5;241m=\u001b[39m get_dataset(database_path)\n\u001b[0;32m     51\u001b[0m     dst_data \u001b[38;5;241m=\u001b[39m {}\n",
      "Cell \u001b[1;32mIn[2], line 5\u001b[0m, in \u001b[0;36mload_labels\u001b[1;34m(database_path)\u001b[0m\n\u001b[0;32m      2\u001b[0m \u001b[38;5;28;01mif\u001b[39;00m os\u001b[38;5;241m.\u001b[39mpath\u001b[38;5;241m.\u001b[39misdir(database_path):\n\u001b[0;32m      3\u001b[0m     labels \u001b[38;5;241m=\u001b[39m os\u001b[38;5;241m.\u001b[39mlistdir(database_path)\n\u001b[1;32m----> 5\u001b[0m \u001b[38;5;28;01mreturn\u001b[39;00m \u001b[43mlabels\u001b[49m\n",
      "\u001b[1;31mUnboundLocalError\u001b[0m: local variable 'labels' referenced before assignment"
     ]
    }
   ],
   "source": [
    "database_path = 'F:\\AVSS2019\\src\\VioDB\\hockey_jpg'\n",
    "dst_json_path = database_path + '1.json'\n",
    "\n",
    "generate_annotation(database_path, dst_json_path)"
   ]
  },
  {
   "cell_type": "code",
   "execution_count": null,
   "metadata": {},
   "outputs": [],
   "source": []
  }
 ],
 "metadata": {
  "kernelspec": {
   "display_name": "Python 3 (ipykernel)",
   "language": "python",
   "name": "python3"
  },
  "language_info": {
   "codemirror_mode": {
    "name": "ipython",
    "version": 3
   },
   "file_extension": ".py",
   "mimetype": "text/x-python",
   "name": "python",
   "nbconvert_exporter": "python",
   "pygments_lexer": "ipython3",
   "version": "3.10.10"
  }
 },
 "nbformat": 4,
 "nbformat_minor": 4
}
